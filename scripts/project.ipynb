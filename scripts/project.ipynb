{
 "metadata": {
  "language_info": {
   "codemirror_mode": {
    "name": "ipython",
    "version": 3
   },
   "file_extension": ".py",
   "mimetype": "text/x-python",
   "name": "python",
   "nbconvert_exporter": "python",
   "pygments_lexer": "ipython3",
   "version": "3.9.5"
  },
  "orig_nbformat": 2,
  "kernelspec": {
   "name": "python395jvsc74a57bd0536c8f73e93754b11c97210e83a55cbfb920080cdb2d5a42ce0984fd89e33775",
   "display_name": "Python 3.9.5 64-bit"
  },
  "metadata": {
   "interpreter": {
    "hash": "536c8f73e93754b11c97210e83a55cbfb920080cdb2d5a42ce0984fd89e33775"
   }
  }
 },
 "nbformat": 4,
 "nbformat_minor": 2,
 "cells": [
  {
   "cell_type": "code",
   "execution_count": 18,
   "metadata": {},
   "outputs": [],
   "source": [
    "# Import needed libraries\n",
    "import pandas as pd\n",
    "import datetime as dt"
   ]
  },
  {
   "cell_type": "code",
   "execution_count": 3,
   "metadata": {},
   "outputs": [
    {
     "output_type": "execute_result",
     "data": {
      "text/plain": [
       "   Updated On  State  Total Individuals Vaccinated  Total Sessions Conducted  \\\n",
       "0  16/01/2021  India                       48276.0                    3455.0   \n",
       "1  17/01/2021  India                       58604.0                    8532.0   \n",
       "2  18/01/2021  India                       99449.0                   13611.0   \n",
       "3  19/01/2021  India                      195525.0                   17855.0   \n",
       "4  20/01/2021  India                      251280.0                   25472.0   \n",
       "\n",
       "   Total Sites   First Dose Administered  Second Dose Administered  \\\n",
       "0        2957.0                  48276.0                       0.0   \n",
       "1        4954.0                  58604.0                       0.0   \n",
       "2        6583.0                  99449.0                       0.0   \n",
       "3        7951.0                 195525.0                       0.0   \n",
       "4       10504.0                 251280.0                       0.0   \n",
       "\n",
       "   Male(Individuals Vaccinated)  Female(Individuals Vaccinated)  \\\n",
       "0                       23757.0                         24517.0   \n",
       "1                       27348.0                         31252.0   \n",
       "2                       41361.0                         58083.0   \n",
       "3                       81901.0                        113613.0   \n",
       "4                       98111.0                        153145.0   \n",
       "\n",
       "   Transgender(Individuals Vaccinated)  Total Covaxin Administered  \\\n",
       "0                                  2.0                       579.0   \n",
       "1                                  4.0                       635.0   \n",
       "2                                  5.0                      1299.0   \n",
       "3                                 11.0                      3017.0   \n",
       "4                                 24.0                      3946.0   \n",
       "\n",
       "   Total CoviShield Administered  AEFI  18-30 years (Age)  30-45 years (Age)  \\\n",
       "0                        47697.0   NaN                NaN                NaN   \n",
       "1                        57969.0   NaN                NaN                NaN   \n",
       "2                        98150.0   NaN                NaN                NaN   \n",
       "3                       192508.0   NaN                NaN                NaN   \n",
       "4                       247334.0   NaN                NaN                NaN   \n",
       "\n",
       "   45-60 years (Age)  60+ years (Age)  Total Doses Administered  \n",
       "0                NaN              NaN                   48276.0  \n",
       "1                NaN              NaN                   58604.0  \n",
       "2                NaN              NaN                   99449.0  \n",
       "3                NaN              NaN                  195525.0  \n",
       "4                NaN              NaN                  251280.0  "
      ],
      "text/html": "<div>\n<style scoped>\n    .dataframe tbody tr th:only-of-type {\n        vertical-align: middle;\n    }\n\n    .dataframe tbody tr th {\n        vertical-align: top;\n    }\n\n    .dataframe thead th {\n        text-align: right;\n    }\n</style>\n<table border=\"1\" class=\"dataframe\">\n  <thead>\n    <tr style=\"text-align: right;\">\n      <th></th>\n      <th>Updated On</th>\n      <th>State</th>\n      <th>Total Individuals Vaccinated</th>\n      <th>Total Sessions Conducted</th>\n      <th>Total Sites</th>\n      <th>First Dose Administered</th>\n      <th>Second Dose Administered</th>\n      <th>Male(Individuals Vaccinated)</th>\n      <th>Female(Individuals Vaccinated)</th>\n      <th>Transgender(Individuals Vaccinated)</th>\n      <th>Total Covaxin Administered</th>\n      <th>Total CoviShield Administered</th>\n      <th>AEFI</th>\n      <th>18-30 years (Age)</th>\n      <th>30-45 years (Age)</th>\n      <th>45-60 years (Age)</th>\n      <th>60+ years (Age)</th>\n      <th>Total Doses Administered</th>\n    </tr>\n  </thead>\n  <tbody>\n    <tr>\n      <th>0</th>\n      <td>16/01/2021</td>\n      <td>India</td>\n      <td>48276.0</td>\n      <td>3455.0</td>\n      <td>2957.0</td>\n      <td>48276.0</td>\n      <td>0.0</td>\n      <td>23757.0</td>\n      <td>24517.0</td>\n      <td>2.0</td>\n      <td>579.0</td>\n      <td>47697.0</td>\n      <td>NaN</td>\n      <td>NaN</td>\n      <td>NaN</td>\n      <td>NaN</td>\n      <td>NaN</td>\n      <td>48276.0</td>\n    </tr>\n    <tr>\n      <th>1</th>\n      <td>17/01/2021</td>\n      <td>India</td>\n      <td>58604.0</td>\n      <td>8532.0</td>\n      <td>4954.0</td>\n      <td>58604.0</td>\n      <td>0.0</td>\n      <td>27348.0</td>\n      <td>31252.0</td>\n      <td>4.0</td>\n      <td>635.0</td>\n      <td>57969.0</td>\n      <td>NaN</td>\n      <td>NaN</td>\n      <td>NaN</td>\n      <td>NaN</td>\n      <td>NaN</td>\n      <td>58604.0</td>\n    </tr>\n    <tr>\n      <th>2</th>\n      <td>18/01/2021</td>\n      <td>India</td>\n      <td>99449.0</td>\n      <td>13611.0</td>\n      <td>6583.0</td>\n      <td>99449.0</td>\n      <td>0.0</td>\n      <td>41361.0</td>\n      <td>58083.0</td>\n      <td>5.0</td>\n      <td>1299.0</td>\n      <td>98150.0</td>\n      <td>NaN</td>\n      <td>NaN</td>\n      <td>NaN</td>\n      <td>NaN</td>\n      <td>NaN</td>\n      <td>99449.0</td>\n    </tr>\n    <tr>\n      <th>3</th>\n      <td>19/01/2021</td>\n      <td>India</td>\n      <td>195525.0</td>\n      <td>17855.0</td>\n      <td>7951.0</td>\n      <td>195525.0</td>\n      <td>0.0</td>\n      <td>81901.0</td>\n      <td>113613.0</td>\n      <td>11.0</td>\n      <td>3017.0</td>\n      <td>192508.0</td>\n      <td>NaN</td>\n      <td>NaN</td>\n      <td>NaN</td>\n      <td>NaN</td>\n      <td>NaN</td>\n      <td>195525.0</td>\n    </tr>\n    <tr>\n      <th>4</th>\n      <td>20/01/2021</td>\n      <td>India</td>\n      <td>251280.0</td>\n      <td>25472.0</td>\n      <td>10504.0</td>\n      <td>251280.0</td>\n      <td>0.0</td>\n      <td>98111.0</td>\n      <td>153145.0</td>\n      <td>24.0</td>\n      <td>3946.0</td>\n      <td>247334.0</td>\n      <td>NaN</td>\n      <td>NaN</td>\n      <td>NaN</td>\n      <td>NaN</td>\n      <td>NaN</td>\n      <td>251280.0</td>\n    </tr>\n  </tbody>\n</table>\n</div>"
     },
     "metadata": {},
     "execution_count": 3
    }
   ],
   "source": [
    "# open dataset 1\n",
    "dataset1 = pd.read_csv('../data/covid_vaccine_statewise.csv')\n",
    "\n",
    "# view data head\n",
    "dataset1.head()"
   ]
  },
  {
   "cell_type": "code",
   "execution_count": 6,
   "metadata": {},
   "outputs": [
    {
     "output_type": "execute_result",
     "data": {
      "text/plain": [
       "      Updated On                                     State  \\\n",
       "469   05/05/2021                         Arunachal Pradesh   \n",
       "3301  18/03/2021                                Puducherry   \n",
       "4279  05/04/2021                               Uttarakhand   \n",
       "1496  13/03/2021                                   Haryana   \n",
       "3756  21/02/2021                                Tamil Nadu   \n",
       "...          ...                                       ...   \n",
       "984   09/02/2021  Dadra and Nagar Haveli and Daman and Diu   \n",
       "3534  11/03/2021                                 Rajasthan   \n",
       "2461  18/03/2021                            Madhya Pradesh   \n",
       "477   13/05/2021                         Arunachal Pradesh   \n",
       "4347  12/02/2021                               West Bengal   \n",
       "\n",
       "      Total Individuals Vaccinated  Total Sessions Conducted  Total Sites   \\\n",
       "469                       199517.0                   12950.0          93.0   \n",
       "3301                       34800.0                    7150.0          38.0   \n",
       "4279                      816359.0                  145120.0         678.0   \n",
       "1496                      392137.0                   61990.0         473.0   \n",
       "3756                      256365.0                   18094.0        1825.0   \n",
       "...                            ...                       ...           ...   \n",
       "984                         2567.0                     152.0          49.0   \n",
       "3534                     2089766.0                   25650.0          97.0   \n",
       "2461                     1630087.0                  566859.0        2636.0   \n",
       "477                       216168.0                   14800.0         109.0   \n",
       "4347                      451987.0                   13245.0        1008.0   \n",
       "\n",
       "      First Dose Administered  Second Dose Administered  \\\n",
       "469                  199517.0                   62451.0   \n",
       "3301                  34800.0                    4818.0   \n",
       "4279                 816359.0                  147487.0   \n",
       "1496                 289284.0                  102853.0   \n",
       "3756                 256365.0                   14122.0   \n",
       "...                       ...                       ...   \n",
       "984                    2567.0                       0.0   \n",
       "3534                1689250.0                  400516.0   \n",
       "2461                1630087.0                  431895.0   \n",
       "477                  216168.0                   77301.0   \n",
       "4347                 451987.0                       0.0   \n",
       "\n",
       "      Male(Individuals Vaccinated)  Female(Individuals Vaccinated)  \\\n",
       "469                       112188.0                         87249.0   \n",
       "3301                       18906.0                         15891.0   \n",
       "4279                      427701.0                        388567.0   \n",
       "1496                      234610.0                        157511.0   \n",
       "3756                      106459.0                        149887.0   \n",
       "...                            ...                             ...   \n",
       "984                         1160.0                          1407.0   \n",
       "3534                     1193914.0                        895591.0   \n",
       "2461                      900109.0                        729842.0   \n",
       "477                       121595.0                         94491.0   \n",
       "4347                      184971.0                        266891.0   \n",
       "\n",
       "      Transgender(Individuals Vaccinated)  Total Covaxin Administered  \\\n",
       "469                                  80.0                         0.0   \n",
       "3301                                  3.0                         0.0   \n",
       "4279                                 91.0                       407.0   \n",
       "1496                                 16.0                     72394.0   \n",
       "3756                                 19.0                      4421.0   \n",
       "...                                   ...                         ...   \n",
       "984                                   0.0                         0.0   \n",
       "3534                                261.0                    220883.0   \n",
       "2461                                136.0                    203540.0   \n",
       "477                                  82.0                         0.0   \n",
       "4347                                125.0                      7600.0   \n",
       "\n",
       "      Total CoviShield Administered   AEFI  18-30 years (Age)  \\\n",
       "469                        261968.0  260.0            15528.0   \n",
       "3301                        39618.0   11.0             3252.0   \n",
       "4279                       963439.0  260.0            19433.0   \n",
       "1496                       319724.0    NaN                NaN   \n",
       "3756                       251944.0    NaN                NaN   \n",
       "...                             ...    ...                ...   \n",
       "984                          2567.0    NaN                NaN   \n",
       "3534                      1868824.0    NaN                NaN   \n",
       "2461                      1858442.0  297.0            47341.0   \n",
       "477                        293469.0  263.0            17590.0   \n",
       "4347                       444387.0    NaN                NaN   \n",
       "\n",
       "      30-45 years (Age)  45-60 years (Age)  60+ years (Age)  \\\n",
       "469             39505.0           103290.0          41166.0   \n",
       "3301             9385.0            11245.0          10889.0   \n",
       "4279           105425.0           262203.0         429126.0   \n",
       "1496                NaN                NaN              NaN   \n",
       "3756                NaN                NaN              NaN   \n",
       "...                 ...                ...              ...   \n",
       "984                 NaN                NaN              NaN   \n",
       "3534                NaN                NaN              NaN   \n",
       "2461           366199.0           447586.0         768191.0   \n",
       "477             43814.0           111045.0          43687.0   \n",
       "4347                NaN                NaN              NaN   \n",
       "\n",
       "      Total Doses Administered  \n",
       "469                   261968.0  \n",
       "3301                   39618.0  \n",
       "4279                  963846.0  \n",
       "1496                  392137.0  \n",
       "3756                  270487.0  \n",
       "...                        ...  \n",
       "984                     2567.0  \n",
       "3534                 2089766.0  \n",
       "2461                 2061982.0  \n",
       "477                   293469.0  \n",
       "4347                  451987.0  \n",
       "\n",
       "[100 rows x 18 columns]"
      ],
      "text/html": "<div>\n<style scoped>\n    .dataframe tbody tr th:only-of-type {\n        vertical-align: middle;\n    }\n\n    .dataframe tbody tr th {\n        vertical-align: top;\n    }\n\n    .dataframe thead th {\n        text-align: right;\n    }\n</style>\n<table border=\"1\" class=\"dataframe\">\n  <thead>\n    <tr style=\"text-align: right;\">\n      <th></th>\n      <th>Updated On</th>\n      <th>State</th>\n      <th>Total Individuals Vaccinated</th>\n      <th>Total Sessions Conducted</th>\n      <th>Total Sites</th>\n      <th>First Dose Administered</th>\n      <th>Second Dose Administered</th>\n      <th>Male(Individuals Vaccinated)</th>\n      <th>Female(Individuals Vaccinated)</th>\n      <th>Transgender(Individuals Vaccinated)</th>\n      <th>Total Covaxin Administered</th>\n      <th>Total CoviShield Administered</th>\n      <th>AEFI</th>\n      <th>18-30 years (Age)</th>\n      <th>30-45 years (Age)</th>\n      <th>45-60 years (Age)</th>\n      <th>60+ years (Age)</th>\n      <th>Total Doses Administered</th>\n    </tr>\n  </thead>\n  <tbody>\n    <tr>\n      <th>469</th>\n      <td>05/05/2021</td>\n      <td>Arunachal Pradesh</td>\n      <td>199517.0</td>\n      <td>12950.0</td>\n      <td>93.0</td>\n      <td>199517.0</td>\n      <td>62451.0</td>\n      <td>112188.0</td>\n      <td>87249.0</td>\n      <td>80.0</td>\n      <td>0.0</td>\n      <td>261968.0</td>\n      <td>260.0</td>\n      <td>15528.0</td>\n      <td>39505.0</td>\n      <td>103290.0</td>\n      <td>41166.0</td>\n      <td>261968.0</td>\n    </tr>\n    <tr>\n      <th>3301</th>\n      <td>18/03/2021</td>\n      <td>Puducherry</td>\n      <td>34800.0</td>\n      <td>7150.0</td>\n      <td>38.0</td>\n      <td>34800.0</td>\n      <td>4818.0</td>\n      <td>18906.0</td>\n      <td>15891.0</td>\n      <td>3.0</td>\n      <td>0.0</td>\n      <td>39618.0</td>\n      <td>11.0</td>\n      <td>3252.0</td>\n      <td>9385.0</td>\n      <td>11245.0</td>\n      <td>10889.0</td>\n      <td>39618.0</td>\n    </tr>\n    <tr>\n      <th>4279</th>\n      <td>05/04/2021</td>\n      <td>Uttarakhand</td>\n      <td>816359.0</td>\n      <td>145120.0</td>\n      <td>678.0</td>\n      <td>816359.0</td>\n      <td>147487.0</td>\n      <td>427701.0</td>\n      <td>388567.0</td>\n      <td>91.0</td>\n      <td>407.0</td>\n      <td>963439.0</td>\n      <td>260.0</td>\n      <td>19433.0</td>\n      <td>105425.0</td>\n      <td>262203.0</td>\n      <td>429126.0</td>\n      <td>963846.0</td>\n    </tr>\n    <tr>\n      <th>1496</th>\n      <td>13/03/2021</td>\n      <td>Haryana</td>\n      <td>392137.0</td>\n      <td>61990.0</td>\n      <td>473.0</td>\n      <td>289284.0</td>\n      <td>102853.0</td>\n      <td>234610.0</td>\n      <td>157511.0</td>\n      <td>16.0</td>\n      <td>72394.0</td>\n      <td>319724.0</td>\n      <td>NaN</td>\n      <td>NaN</td>\n      <td>NaN</td>\n      <td>NaN</td>\n      <td>NaN</td>\n      <td>392137.0</td>\n    </tr>\n    <tr>\n      <th>3756</th>\n      <td>21/02/2021</td>\n      <td>Tamil Nadu</td>\n      <td>256365.0</td>\n      <td>18094.0</td>\n      <td>1825.0</td>\n      <td>256365.0</td>\n      <td>14122.0</td>\n      <td>106459.0</td>\n      <td>149887.0</td>\n      <td>19.0</td>\n      <td>4421.0</td>\n      <td>251944.0</td>\n      <td>NaN</td>\n      <td>NaN</td>\n      <td>NaN</td>\n      <td>NaN</td>\n      <td>NaN</td>\n      <td>270487.0</td>\n    </tr>\n    <tr>\n      <th>...</th>\n      <td>...</td>\n      <td>...</td>\n      <td>...</td>\n      <td>...</td>\n      <td>...</td>\n      <td>...</td>\n      <td>...</td>\n      <td>...</td>\n      <td>...</td>\n      <td>...</td>\n      <td>...</td>\n      <td>...</td>\n      <td>...</td>\n      <td>...</td>\n      <td>...</td>\n      <td>...</td>\n      <td>...</td>\n      <td>...</td>\n    </tr>\n    <tr>\n      <th>984</th>\n      <td>09/02/2021</td>\n      <td>Dadra and Nagar Haveli and Daman and Diu</td>\n      <td>2567.0</td>\n      <td>152.0</td>\n      <td>49.0</td>\n      <td>2567.0</td>\n      <td>0.0</td>\n      <td>1160.0</td>\n      <td>1407.0</td>\n      <td>0.0</td>\n      <td>0.0</td>\n      <td>2567.0</td>\n      <td>NaN</td>\n      <td>NaN</td>\n      <td>NaN</td>\n      <td>NaN</td>\n      <td>NaN</td>\n      <td>2567.0</td>\n    </tr>\n    <tr>\n      <th>3534</th>\n      <td>11/03/2021</td>\n      <td>Rajasthan</td>\n      <td>2089766.0</td>\n      <td>25650.0</td>\n      <td>97.0</td>\n      <td>1689250.0</td>\n      <td>400516.0</td>\n      <td>1193914.0</td>\n      <td>895591.0</td>\n      <td>261.0</td>\n      <td>220883.0</td>\n      <td>1868824.0</td>\n      <td>NaN</td>\n      <td>NaN</td>\n      <td>NaN</td>\n      <td>NaN</td>\n      <td>NaN</td>\n      <td>2089766.0</td>\n    </tr>\n    <tr>\n      <th>2461</th>\n      <td>18/03/2021</td>\n      <td>Madhya Pradesh</td>\n      <td>1630087.0</td>\n      <td>566859.0</td>\n      <td>2636.0</td>\n      <td>1630087.0</td>\n      <td>431895.0</td>\n      <td>900109.0</td>\n      <td>729842.0</td>\n      <td>136.0</td>\n      <td>203540.0</td>\n      <td>1858442.0</td>\n      <td>297.0</td>\n      <td>47341.0</td>\n      <td>366199.0</td>\n      <td>447586.0</td>\n      <td>768191.0</td>\n      <td>2061982.0</td>\n    </tr>\n    <tr>\n      <th>477</th>\n      <td>13/05/2021</td>\n      <td>Arunachal Pradesh</td>\n      <td>216168.0</td>\n      <td>14800.0</td>\n      <td>109.0</td>\n      <td>216168.0</td>\n      <td>77301.0</td>\n      <td>121595.0</td>\n      <td>94491.0</td>\n      <td>82.0</td>\n      <td>0.0</td>\n      <td>293469.0</td>\n      <td>263.0</td>\n      <td>17590.0</td>\n      <td>43814.0</td>\n      <td>111045.0</td>\n      <td>43687.0</td>\n      <td>293469.0</td>\n    </tr>\n    <tr>\n      <th>4347</th>\n      <td>12/02/2021</td>\n      <td>West Bengal</td>\n      <td>451987.0</td>\n      <td>13245.0</td>\n      <td>1008.0</td>\n      <td>451987.0</td>\n      <td>0.0</td>\n      <td>184971.0</td>\n      <td>266891.0</td>\n      <td>125.0</td>\n      <td>7600.0</td>\n      <td>444387.0</td>\n      <td>NaN</td>\n      <td>NaN</td>\n      <td>NaN</td>\n      <td>NaN</td>\n      <td>NaN</td>\n      <td>451987.0</td>\n    </tr>\n  </tbody>\n</table>\n<p>100 rows × 18 columns</p>\n</div>"
     },
     "metadata": {},
     "execution_count": 6
    }
   ],
   "source": [
    "#more depth\n",
    "dataset1.sample(100)"
   ]
  },
  {
   "cell_type": "code",
   "execution_count": 7,
   "metadata": {},
   "outputs": [
    {
     "output_type": "stream",
     "name": "stdout",
     "text": [
      "Index(['Updated On', 'State', 'Total Individuals Vaccinated',\n       'Total Sessions Conducted', 'Total Sites ', 'First Dose Administered',\n       'Second Dose Administered', 'Male(Individuals Vaccinated)',\n       'Female(Individuals Vaccinated)', 'Transgender(Individuals Vaccinated)',\n       'Total Covaxin Administered', 'Total CoviShield Administered', 'AEFI',\n       '18-30 years (Age)', '30-45 years (Age)', '45-60 years (Age)',\n       '60+ years (Age)', 'Total Doses Administered'],\n      dtype='object')\n"
     ]
    }
   ],
   "source": [
    "# Get all columns\n",
    "print(dataset1.columns)"
   ]
  },
  {
   "cell_type": "code",
   "execution_count": 4,
   "metadata": {},
   "outputs": [
    {
     "output_type": "execute_result",
     "data": {
      "text/plain": [
       "   Sno        Date     Time State/UnionTerritory ConfirmedIndianNational  \\\n",
       "0    1  2020-01-30  6:00 PM               Kerala                       1   \n",
       "1    2  2020-01-31  6:00 PM               Kerala                       1   \n",
       "2    3  2020-02-01  6:00 PM               Kerala                       2   \n",
       "3    4  2020-02-02  6:00 PM               Kerala                       3   \n",
       "4    5  2020-02-03  6:00 PM               Kerala                       3   \n",
       "\n",
       "  ConfirmedForeignNational  Cured  Deaths  Confirmed  \n",
       "0                        0      0       0          1  \n",
       "1                        0      0       0          1  \n",
       "2                        0      0       0          2  \n",
       "3                        0      0       0          3  \n",
       "4                        0      0       0          3  "
      ],
      "text/html": "<div>\n<style scoped>\n    .dataframe tbody tr th:only-of-type {\n        vertical-align: middle;\n    }\n\n    .dataframe tbody tr th {\n        vertical-align: top;\n    }\n\n    .dataframe thead th {\n        text-align: right;\n    }\n</style>\n<table border=\"1\" class=\"dataframe\">\n  <thead>\n    <tr style=\"text-align: right;\">\n      <th></th>\n      <th>Sno</th>\n      <th>Date</th>\n      <th>Time</th>\n      <th>State/UnionTerritory</th>\n      <th>ConfirmedIndianNational</th>\n      <th>ConfirmedForeignNational</th>\n      <th>Cured</th>\n      <th>Deaths</th>\n      <th>Confirmed</th>\n    </tr>\n  </thead>\n  <tbody>\n    <tr>\n      <th>0</th>\n      <td>1</td>\n      <td>2020-01-30</td>\n      <td>6:00 PM</td>\n      <td>Kerala</td>\n      <td>1</td>\n      <td>0</td>\n      <td>0</td>\n      <td>0</td>\n      <td>1</td>\n    </tr>\n    <tr>\n      <th>1</th>\n      <td>2</td>\n      <td>2020-01-31</td>\n      <td>6:00 PM</td>\n      <td>Kerala</td>\n      <td>1</td>\n      <td>0</td>\n      <td>0</td>\n      <td>0</td>\n      <td>1</td>\n    </tr>\n    <tr>\n      <th>2</th>\n      <td>3</td>\n      <td>2020-02-01</td>\n      <td>6:00 PM</td>\n      <td>Kerala</td>\n      <td>2</td>\n      <td>0</td>\n      <td>0</td>\n      <td>0</td>\n      <td>2</td>\n    </tr>\n    <tr>\n      <th>3</th>\n      <td>4</td>\n      <td>2020-02-02</td>\n      <td>6:00 PM</td>\n      <td>Kerala</td>\n      <td>3</td>\n      <td>0</td>\n      <td>0</td>\n      <td>0</td>\n      <td>3</td>\n    </tr>\n    <tr>\n      <th>4</th>\n      <td>5</td>\n      <td>2020-02-03</td>\n      <td>6:00 PM</td>\n      <td>Kerala</td>\n      <td>3</td>\n      <td>0</td>\n      <td>0</td>\n      <td>0</td>\n      <td>3</td>\n    </tr>\n  </tbody>\n</table>\n</div>"
     },
     "metadata": {},
     "execution_count": 4
    }
   ],
   "source": [
    "# open dataset 1\n",
    "dataset2 = pd.read_csv('../data/covid_19_india.csv')\n",
    "\n",
    "# view data head\n",
    "dataset2.head()"
   ]
  },
  {
   "cell_type": "code",
   "execution_count": 10,
   "metadata": {},
   "outputs": [
    {
     "output_type": "stream",
     "name": "stdout",
     "text": [
      "Index(['Sno', 'Date', 'Time', 'State/UnionTerritory',\n       'ConfirmedIndianNational', 'ConfirmedForeignNational', 'Cured',\n       'Deaths', 'Confirmed'],\n      dtype='object')\n"
     ]
    }
   ],
   "source": [
    "# Get all columns\n",
    "print(dataset2.columns)"
   ]
  },
  {
   "cell_type": "code",
   "execution_count": 8,
   "metadata": {},
   "outputs": [
    {
     "output_type": "execute_result",
     "data": {
      "text/plain": [
       "         Sno        Date     Time         State/UnionTerritory  \\\n",
       "735      736  2020-04-07  6:00 PM                      Tripura   \n",
       "1756    1757  2020-05-09  8:00 AM                  Maharashtra   \n",
       "5458    5459  2020-08-22  8:00 AM                       Ladakh   \n",
       "3393    3394  2020-06-25  8:00 AM                 Chhattisgarh   \n",
       "2988    2989  2020-06-13  8:00 AM                Uttar Pradesh   \n",
       "...      ...         ...      ...                          ...   \n",
       "1510    1511  2020-05-02  5:00 PM  Andaman and Nicobar Islands   \n",
       "5109    5110  2020-08-12  8:00 AM               Madhya Pradesh   \n",
       "1164    1165  2020-04-21  5:00 PM                        Delhi   \n",
       "12688  12689  2021-03-14  8:00 AM                    Jharkhand   \n",
       "7209    7210  2020-10-11  8:00 AM               Madhya Pradesh   \n",
       "\n",
       "      ConfirmedIndianNational ConfirmedForeignNational   Cured  Deaths  \\\n",
       "735                         -                        -       0       0   \n",
       "1756                        -                        -    3470     731   \n",
       "5458                        -                        -    1449      19   \n",
       "3393                        -                        -    1627      12   \n",
       "2988                        -                        -    7609     365   \n",
       "...                       ...                      ...     ...     ...   \n",
       "1510                        -                        -      16       0   \n",
       "5109                        -                        -   30596    1033   \n",
       "1164                        -                        -     431      47   \n",
       "12688                       -                        -  118959    1093   \n",
       "7209                        -                        -  127034    2599   \n",
       "\n",
       "       Confirmed  \n",
       "735            1  \n",
       "1756       19063  \n",
       "5458        2133  \n",
       "3393        2419  \n",
       "2988       12616  \n",
       "...          ...  \n",
       "1510          33  \n",
       "5109       40734  \n",
       "1164        2081  \n",
       "12688     120567  \n",
       "7209      145245  \n",
       "\n",
       "[100 rows x 9 columns]"
      ],
      "text/html": "<div>\n<style scoped>\n    .dataframe tbody tr th:only-of-type {\n        vertical-align: middle;\n    }\n\n    .dataframe tbody tr th {\n        vertical-align: top;\n    }\n\n    .dataframe thead th {\n        text-align: right;\n    }\n</style>\n<table border=\"1\" class=\"dataframe\">\n  <thead>\n    <tr style=\"text-align: right;\">\n      <th></th>\n      <th>Sno</th>\n      <th>Date</th>\n      <th>Time</th>\n      <th>State/UnionTerritory</th>\n      <th>ConfirmedIndianNational</th>\n      <th>ConfirmedForeignNational</th>\n      <th>Cured</th>\n      <th>Deaths</th>\n      <th>Confirmed</th>\n    </tr>\n  </thead>\n  <tbody>\n    <tr>\n      <th>735</th>\n      <td>736</td>\n      <td>2020-04-07</td>\n      <td>6:00 PM</td>\n      <td>Tripura</td>\n      <td>-</td>\n      <td>-</td>\n      <td>0</td>\n      <td>0</td>\n      <td>1</td>\n    </tr>\n    <tr>\n      <th>1756</th>\n      <td>1757</td>\n      <td>2020-05-09</td>\n      <td>8:00 AM</td>\n      <td>Maharashtra</td>\n      <td>-</td>\n      <td>-</td>\n      <td>3470</td>\n      <td>731</td>\n      <td>19063</td>\n    </tr>\n    <tr>\n      <th>5458</th>\n      <td>5459</td>\n      <td>2020-08-22</td>\n      <td>8:00 AM</td>\n      <td>Ladakh</td>\n      <td>-</td>\n      <td>-</td>\n      <td>1449</td>\n      <td>19</td>\n      <td>2133</td>\n    </tr>\n    <tr>\n      <th>3393</th>\n      <td>3394</td>\n      <td>2020-06-25</td>\n      <td>8:00 AM</td>\n      <td>Chhattisgarh</td>\n      <td>-</td>\n      <td>-</td>\n      <td>1627</td>\n      <td>12</td>\n      <td>2419</td>\n    </tr>\n    <tr>\n      <th>2988</th>\n      <td>2989</td>\n      <td>2020-06-13</td>\n      <td>8:00 AM</td>\n      <td>Uttar Pradesh</td>\n      <td>-</td>\n      <td>-</td>\n      <td>7609</td>\n      <td>365</td>\n      <td>12616</td>\n    </tr>\n    <tr>\n      <th>...</th>\n      <td>...</td>\n      <td>...</td>\n      <td>...</td>\n      <td>...</td>\n      <td>...</td>\n      <td>...</td>\n      <td>...</td>\n      <td>...</td>\n      <td>...</td>\n    </tr>\n    <tr>\n      <th>1510</th>\n      <td>1511</td>\n      <td>2020-05-02</td>\n      <td>5:00 PM</td>\n      <td>Andaman and Nicobar Islands</td>\n      <td>-</td>\n      <td>-</td>\n      <td>16</td>\n      <td>0</td>\n      <td>33</td>\n    </tr>\n    <tr>\n      <th>5109</th>\n      <td>5110</td>\n      <td>2020-08-12</td>\n      <td>8:00 AM</td>\n      <td>Madhya Pradesh</td>\n      <td>-</td>\n      <td>-</td>\n      <td>30596</td>\n      <td>1033</td>\n      <td>40734</td>\n    </tr>\n    <tr>\n      <th>1164</th>\n      <td>1165</td>\n      <td>2020-04-21</td>\n      <td>5:00 PM</td>\n      <td>Delhi</td>\n      <td>-</td>\n      <td>-</td>\n      <td>431</td>\n      <td>47</td>\n      <td>2081</td>\n    </tr>\n    <tr>\n      <th>12688</th>\n      <td>12689</td>\n      <td>2021-03-14</td>\n      <td>8:00 AM</td>\n      <td>Jharkhand</td>\n      <td>-</td>\n      <td>-</td>\n      <td>118959</td>\n      <td>1093</td>\n      <td>120567</td>\n    </tr>\n    <tr>\n      <th>7209</th>\n      <td>7210</td>\n      <td>2020-10-11</td>\n      <td>8:00 AM</td>\n      <td>Madhya Pradesh</td>\n      <td>-</td>\n      <td>-</td>\n      <td>127034</td>\n      <td>2599</td>\n      <td>145245</td>\n    </tr>\n  </tbody>\n</table>\n<p>100 rows × 9 columns</p>\n</div>"
     },
     "metadata": {},
     "execution_count": 8
    }
   ],
   "source": [
    "#more depth\n",
    "dataset2.sample(100)"
   ]
  },
  {
   "cell_type": "code",
   "execution_count": 17,
   "metadata": {},
   "outputs": [
    {
     "output_type": "execute_result",
     "data": {
      "text/plain": [
       "         Sno        Date     Time State/UnionTerritory  \\\n",
       "14878  14879  2021-05-14  8:00 AM                Delhi   \n",
       "14879  14880  2021-05-14  8:00 AM                  Goa   \n",
       "14880  14881  2021-05-14  8:00 AM              Gujarat   \n",
       "14881  14882  2021-05-14  8:00 AM              Haryana   \n",
       "14882  14883  2021-05-14  8:00 AM     Himachal Pradesh   \n",
       "...      ...         ...      ...                  ...   \n",
       "14973  14974  2021-05-16  8:00 AM            Telangana   \n",
       "14974  14975  2021-05-16  8:00 AM              Tripura   \n",
       "14975  14976  2021-05-16  8:00 AM          Uttarakhand   \n",
       "14976  14977  2021-05-16  8:00 AM        Uttar Pradesh   \n",
       "14977  14978  2021-05-16  8:00 AM          West Bengal   \n",
       "\n",
       "      ConfirmedIndianNational ConfirmedForeignNational    Cured  Deaths  \\\n",
       "14878                       -                        -  1274140   20618   \n",
       "14879                       -                        -    95240    1937   \n",
       "14880                       -                        -   593666    8840   \n",
       "14881                       -                        -   555650    6238   \n",
       "14882                       -                        -   108534    2131   \n",
       "...                       ...                      ...      ...     ...   \n",
       "14973                       -                        -   469007    2928   \n",
       "14974                       -                        -    35522     431   \n",
       "14975                       -                        -   198616    4623   \n",
       "14976                       -                        -  1414259   17238   \n",
       "14977                       -                        -   969228   13137   \n",
       "\n",
       "       Confirmed  \n",
       "14878    1372475  \n",
       "14879     130130  \n",
       "14880     725353  \n",
       "14881     665028  \n",
       "14882     150673  \n",
       "...          ...  \n",
       "14973     525007  \n",
       "14974      40816  \n",
       "14975     283239  \n",
       "14976    1609140  \n",
       "14977    1114313  \n",
       "\n",
       "[100 rows x 9 columns]"
      ],
      "text/html": "<div>\n<style scoped>\n    .dataframe tbody tr th:only-of-type {\n        vertical-align: middle;\n    }\n\n    .dataframe tbody tr th {\n        vertical-align: top;\n    }\n\n    .dataframe thead th {\n        text-align: right;\n    }\n</style>\n<table border=\"1\" class=\"dataframe\">\n  <thead>\n    <tr style=\"text-align: right;\">\n      <th></th>\n      <th>Sno</th>\n      <th>Date</th>\n      <th>Time</th>\n      <th>State/UnionTerritory</th>\n      <th>ConfirmedIndianNational</th>\n      <th>ConfirmedForeignNational</th>\n      <th>Cured</th>\n      <th>Deaths</th>\n      <th>Confirmed</th>\n    </tr>\n  </thead>\n  <tbody>\n    <tr>\n      <th>14878</th>\n      <td>14879</td>\n      <td>2021-05-14</td>\n      <td>8:00 AM</td>\n      <td>Delhi</td>\n      <td>-</td>\n      <td>-</td>\n      <td>1274140</td>\n      <td>20618</td>\n      <td>1372475</td>\n    </tr>\n    <tr>\n      <th>14879</th>\n      <td>14880</td>\n      <td>2021-05-14</td>\n      <td>8:00 AM</td>\n      <td>Goa</td>\n      <td>-</td>\n      <td>-</td>\n      <td>95240</td>\n      <td>1937</td>\n      <td>130130</td>\n    </tr>\n    <tr>\n      <th>14880</th>\n      <td>14881</td>\n      <td>2021-05-14</td>\n      <td>8:00 AM</td>\n      <td>Gujarat</td>\n      <td>-</td>\n      <td>-</td>\n      <td>593666</td>\n      <td>8840</td>\n      <td>725353</td>\n    </tr>\n    <tr>\n      <th>14881</th>\n      <td>14882</td>\n      <td>2021-05-14</td>\n      <td>8:00 AM</td>\n      <td>Haryana</td>\n      <td>-</td>\n      <td>-</td>\n      <td>555650</td>\n      <td>6238</td>\n      <td>665028</td>\n    </tr>\n    <tr>\n      <th>14882</th>\n      <td>14883</td>\n      <td>2021-05-14</td>\n      <td>8:00 AM</td>\n      <td>Himachal Pradesh</td>\n      <td>-</td>\n      <td>-</td>\n      <td>108534</td>\n      <td>2131</td>\n      <td>150673</td>\n    </tr>\n    <tr>\n      <th>...</th>\n      <td>...</td>\n      <td>...</td>\n      <td>...</td>\n      <td>...</td>\n      <td>...</td>\n      <td>...</td>\n      <td>...</td>\n      <td>...</td>\n      <td>...</td>\n    </tr>\n    <tr>\n      <th>14973</th>\n      <td>14974</td>\n      <td>2021-05-16</td>\n      <td>8:00 AM</td>\n      <td>Telangana</td>\n      <td>-</td>\n      <td>-</td>\n      <td>469007</td>\n      <td>2928</td>\n      <td>525007</td>\n    </tr>\n    <tr>\n      <th>14974</th>\n      <td>14975</td>\n      <td>2021-05-16</td>\n      <td>8:00 AM</td>\n      <td>Tripura</td>\n      <td>-</td>\n      <td>-</td>\n      <td>35522</td>\n      <td>431</td>\n      <td>40816</td>\n    </tr>\n    <tr>\n      <th>14975</th>\n      <td>14976</td>\n      <td>2021-05-16</td>\n      <td>8:00 AM</td>\n      <td>Uttarakhand</td>\n      <td>-</td>\n      <td>-</td>\n      <td>198616</td>\n      <td>4623</td>\n      <td>283239</td>\n    </tr>\n    <tr>\n      <th>14976</th>\n      <td>14977</td>\n      <td>2021-05-16</td>\n      <td>8:00 AM</td>\n      <td>Uttar Pradesh</td>\n      <td>-</td>\n      <td>-</td>\n      <td>1414259</td>\n      <td>17238</td>\n      <td>1609140</td>\n    </tr>\n    <tr>\n      <th>14977</th>\n      <td>14978</td>\n      <td>2021-05-16</td>\n      <td>8:00 AM</td>\n      <td>West Bengal</td>\n      <td>-</td>\n      <td>-</td>\n      <td>969228</td>\n      <td>13137</td>\n      <td>1114313</td>\n    </tr>\n  </tbody>\n</table>\n<p>100 rows × 9 columns</p>\n</div>"
     },
     "metadata": {},
     "execution_count": 17
    }
   ],
   "source": [
    "# Need to make sure the dates have values of 2021\n",
    "#more depth\n",
    "dataset2.tail(100)#reading from the end"
   ]
  },
  {
   "cell_type": "code",
   "execution_count": 22,
   "metadata": {},
   "outputs": [
    {
     "output_type": "execute_result",
     "data": {
      "text/plain": [
       "         Sno        Date     Time State/UnionTerritory  \\\n",
       "10077  10078  2020-12-31  8:00 AM            Telengana   \n",
       "10078  10079  2020-12-31  8:00 AM              Tripura   \n",
       "10079  10080  2020-12-31  8:00 AM          Uttarakhand   \n",
       "10080  10081  2020-12-31  8:00 AM        Uttar Pradesh   \n",
       "10081  10082  2020-12-31  8:00 AM          West Bengal   \n",
       "\n",
       "      ConfirmedIndianNational ConfirmedForeignNational   Cured  Deaths  \\\n",
       "10077                       -                        -  278839    1541   \n",
       "10078                       -                        -   32751     385   \n",
       "10079                       -                        -   84149    1504   \n",
       "10080                       -                        -  562459    8352   \n",
       "10081                       -                        -  528829    9683   \n",
       "\n",
       "       Confirmed  \n",
       "10077     286354  \n",
       "10078      33264  \n",
       "10079      90616  \n",
       "10080     584966  \n",
       "10081     550893  "
      ],
      "text/html": "<div>\n<style scoped>\n    .dataframe tbody tr th:only-of-type {\n        vertical-align: middle;\n    }\n\n    .dataframe tbody tr th {\n        vertical-align: top;\n    }\n\n    .dataframe thead th {\n        text-align: right;\n    }\n</style>\n<table border=\"1\" class=\"dataframe\">\n  <thead>\n    <tr style=\"text-align: right;\">\n      <th></th>\n      <th>Sno</th>\n      <th>Date</th>\n      <th>Time</th>\n      <th>State/UnionTerritory</th>\n      <th>ConfirmedIndianNational</th>\n      <th>ConfirmedForeignNational</th>\n      <th>Cured</th>\n      <th>Deaths</th>\n      <th>Confirmed</th>\n    </tr>\n  </thead>\n  <tbody>\n    <tr>\n      <th>10077</th>\n      <td>10078</td>\n      <td>2020-12-31</td>\n      <td>8:00 AM</td>\n      <td>Telengana</td>\n      <td>-</td>\n      <td>-</td>\n      <td>278839</td>\n      <td>1541</td>\n      <td>286354</td>\n    </tr>\n    <tr>\n      <th>10078</th>\n      <td>10079</td>\n      <td>2020-12-31</td>\n      <td>8:00 AM</td>\n      <td>Tripura</td>\n      <td>-</td>\n      <td>-</td>\n      <td>32751</td>\n      <td>385</td>\n      <td>33264</td>\n    </tr>\n    <tr>\n      <th>10079</th>\n      <td>10080</td>\n      <td>2020-12-31</td>\n      <td>8:00 AM</td>\n      <td>Uttarakhand</td>\n      <td>-</td>\n      <td>-</td>\n      <td>84149</td>\n      <td>1504</td>\n      <td>90616</td>\n    </tr>\n    <tr>\n      <th>10080</th>\n      <td>10081</td>\n      <td>2020-12-31</td>\n      <td>8:00 AM</td>\n      <td>Uttar Pradesh</td>\n      <td>-</td>\n      <td>-</td>\n      <td>562459</td>\n      <td>8352</td>\n      <td>584966</td>\n    </tr>\n    <tr>\n      <th>10081</th>\n      <td>10082</td>\n      <td>2020-12-31</td>\n      <td>8:00 AM</td>\n      <td>West Bengal</td>\n      <td>-</td>\n      <td>-</td>\n      <td>528829</td>\n      <td>9683</td>\n      <td>550893</td>\n    </tr>\n  </tbody>\n</table>\n</div>"
     },
     "metadata": {},
     "execution_count": 22
    }
   ],
   "source": [
    "\n",
    "# filter to rows with 2020 dates\n",
    "dataset2_2020 = dataset2[pd.to_datetime(dataset2[\"Date\"]).dt.year == 2020]\n",
    "\n",
    "dataset2_2020.tail()"
   ]
  },
  {
   "cell_type": "code",
   "execution_count": 27,
   "metadata": {},
   "outputs": [
    {
     "output_type": "execute_result",
     "data": {
      "text/plain": [
       "   Sno        Date     Time State/UnionTerritory ConfirmedIndianNational  \\\n",
       "0    1  2020-01-30  6:00 PM               Kerala                       1   \n",
       "1    2  2020-01-31  6:00 PM               Kerala                       1   \n",
       "\n",
       "  ConfirmedForeignNational  Cured  Deaths  Confirmed  \n",
       "0                        0      0       0          1  \n",
       "1                        0      0       0          1  "
      ],
      "text/html": "<div>\n<style scoped>\n    .dataframe tbody tr th:only-of-type {\n        vertical-align: middle;\n    }\n\n    .dataframe tbody tr th {\n        vertical-align: top;\n    }\n\n    .dataframe thead th {\n        text-align: right;\n    }\n</style>\n<table border=\"1\" class=\"dataframe\">\n  <thead>\n    <tr style=\"text-align: right;\">\n      <th></th>\n      <th>Sno</th>\n      <th>Date</th>\n      <th>Time</th>\n      <th>State/UnionTerritory</th>\n      <th>ConfirmedIndianNational</th>\n      <th>ConfirmedForeignNational</th>\n      <th>Cured</th>\n      <th>Deaths</th>\n      <th>Confirmed</th>\n    </tr>\n  </thead>\n  <tbody>\n    <tr>\n      <th>0</th>\n      <td>1</td>\n      <td>2020-01-30</td>\n      <td>6:00 PM</td>\n      <td>Kerala</td>\n      <td>1</td>\n      <td>0</td>\n      <td>0</td>\n      <td>0</td>\n      <td>1</td>\n    </tr>\n    <tr>\n      <th>1</th>\n      <td>2</td>\n      <td>2020-01-31</td>\n      <td>6:00 PM</td>\n      <td>Kerala</td>\n      <td>1</td>\n      <td>0</td>\n      <td>0</td>\n      <td>0</td>\n      <td>1</td>\n    </tr>\n  </tbody>\n</table>\n</div>"
     },
     "metadata": {},
     "execution_count": 27
    }
   ],
   "source": [
    "# monthly filter\n",
    "dataset2_2020_1 = dataset2_2020[pd.to_datetime(dataset2_2020[\"Date\"]).dt.month == 1]\n",
    "dataset2_2020_2 = dataset2_2020[pd.to_datetime(dataset2_2020[\"Date\"]).dt.month == 2]\n",
    "dataset2_2020_3 = dataset2_2020[pd.to_datetime(dataset2_2020[\"Date\"]).dt.month == 3]\n",
    "dataset2_2020_4 = dataset2_2020[pd.to_datetime(dataset2_2020[\"Date\"]).dt.month == 4]\n",
    "dataset2_2020_5 = dataset2_2020[pd.to_datetime(dataset2_2020[\"Date\"]).dt.month == 5]\n",
    "dataset2_2020_6 = dataset2_2020[pd.to_datetime(dataset2_2020[\"Date\"]).dt.month == 6]\n",
    "dataset2_2020_7 = dataset2_2020[pd.to_datetime(dataset2_2020[\"Date\"]).dt.month == 7]\n",
    "dataset2_2020_8 = dataset2_2020[pd.to_datetime(dataset2_2020[\"Date\"]).dt.month == 8]\n",
    "dataset2_2020_9 = dataset2_2020[pd.to_datetime(dataset2_2020[\"Date\"]).dt.month == 9]\n",
    "dataset2_2020_10 = dataset2_2020[pd.to_datetime(dataset2_2020[\"Date\"]).dt.month == 10]\n",
    "dataset2_2020_11 = dataset2_2020[pd.to_datetime(dataset2_2020[\"Date\"]).dt.month == 11]\n",
    "dataset2_2020_12 = dataset2_2020[pd.to_datetime(dataset2_2020[\"Date\"]).dt.month == 12]\n"
   ]
  },
  {
   "cell_type": "code",
   "execution_count": 39,
   "metadata": {},
   "outputs": [],
   "source": [
    "# month-wise Total covid confirmed cases for all States/UT\n",
    "t_01_2020 = dataset2_2020_1['ConfirmedIndianNational'].describe().count() + dataset2_2020_1['ConfirmedForeignNational'].describe().count()\n",
    "t_02_2020 = dataset2_2020_2['ConfirmedIndianNational'].describe().count() + dataset2_2020_2['ConfirmedForeignNational'].describe().count()\n",
    "t_03_2020 = dataset2_2020_3['ConfirmedIndianNational'].describe().count() + dataset2_2020_3['ConfirmedForeignNational'].describe().count()\n",
    "t_04_2020 = dataset2_2020_4['ConfirmedIndianNational'].describe().count() + dataset2_2020_4['ConfirmedForeignNational'].describe().count()\n",
    "t_05_2020 = dataset2_2020_5['ConfirmedIndianNational'].describe().count() + dataset2_2020_5['ConfirmedForeignNational'].describe().count()\n",
    "t_06_2020 = dataset2_2020_6['ConfirmedIndianNational'].describe().count() + dataset2_2020_6['ConfirmedForeignNational'].describe().count()\n",
    "t_07_2020 = dataset2_2020_7['ConfirmedIndianNational'].describe().count() + dataset2_2020_7['ConfirmedForeignNational'].describe().count()\n",
    "t_08_2020 = dataset2_2020_8['ConfirmedIndianNational'].describe().count() + dataset2_2020_8['ConfirmedForeignNational'].describe().count()\n",
    "t_09_2020 = dataset2_2020_9['ConfirmedIndianNational'].describe().count() + dataset2_2020_9['ConfirmedForeignNational'].describe().count()\n",
    "t_10_2020 = dataset2_2020_10['ConfirmedIndianNational'].describe().count() + dataset2_2020_10['ConfirmedForeignNational'].describe().count()\n",
    "t_11_2020 = dataset2_2020_11['ConfirmedIndianNational'].describe().count() + dataset2_2020_11['ConfirmedForeignNational'].describe().count()\n",
    "t_12_2020 = dataset2_2020_12['ConfirmedIndianNational'].describe().count() + dataset2_2020_12['ConfirmedForeignNational'].describe().count()"
   ]
  },
  {
   "cell_type": "code",
   "execution_count": 71,
   "metadata": {},
   "outputs": [],
   "source": [
    "# Total death cases in each States/UT and full country in the year 2020\n",
    "dfs = dict(tuple(dataset2_2020.groupby('State/UnionTerritory')))\n",
    "\n"
   ]
  },
  {
   "cell_type": "code",
   "execution_count": 86,
   "metadata": {},
   "outputs": [
    {
     "output_type": "stream",
     "name": "stdout",
     "text": [
      "14962    2021-05-16\nName: Date, dtype: object\n"
     ]
    }
   ],
   "source": [
    "# which date has the highest covid cases in the country in the year 2020 & 2021\n",
    "worst_date = dataset2[dataset2['Confirmed']==dataset2['Confirmed'].max()][\"Date\"]\n",
    "print(worst_date)"
   ]
  },
  {
   "cell_type": "code",
   "execution_count": 52,
   "metadata": {},
   "outputs": [
    {
     "output_type": "execute_result",
     "data": {
      "text/plain": [
       "         Sno        Date     Time State/UnionTerritory  \\\n",
       "14973  14974  2021-05-16  8:00 AM            Telangana   \n",
       "14974  14975  2021-05-16  8:00 AM              Tripura   \n",
       "14975  14976  2021-05-16  8:00 AM          Uttarakhand   \n",
       "14976  14977  2021-05-16  8:00 AM        Uttar Pradesh   \n",
       "14977  14978  2021-05-16  8:00 AM          West Bengal   \n",
       "\n",
       "      ConfirmedIndianNational ConfirmedForeignNational    Cured  Deaths  \\\n",
       "14973                       -                        -   469007    2928   \n",
       "14974                       -                        -    35522     431   \n",
       "14975                       -                        -   198616    4623   \n",
       "14976                       -                        -  1414259   17238   \n",
       "14977                       -                        -   969228   13137   \n",
       "\n",
       "       Confirmed  \n",
       "14973     525007  \n",
       "14974      40816  \n",
       "14975     283239  \n",
       "14976    1609140  \n",
       "14977    1114313  "
      ],
      "text/html": "<div>\n<style scoped>\n    .dataframe tbody tr th:only-of-type {\n        vertical-align: middle;\n    }\n\n    .dataframe tbody tr th {\n        vertical-align: top;\n    }\n\n    .dataframe thead th {\n        text-align: right;\n    }\n</style>\n<table border=\"1\" class=\"dataframe\">\n  <thead>\n    <tr style=\"text-align: right;\">\n      <th></th>\n      <th>Sno</th>\n      <th>Date</th>\n      <th>Time</th>\n      <th>State/UnionTerritory</th>\n      <th>ConfirmedIndianNational</th>\n      <th>ConfirmedForeignNational</th>\n      <th>Cured</th>\n      <th>Deaths</th>\n      <th>Confirmed</th>\n    </tr>\n  </thead>\n  <tbody>\n    <tr>\n      <th>14973</th>\n      <td>14974</td>\n      <td>2021-05-16</td>\n      <td>8:00 AM</td>\n      <td>Telangana</td>\n      <td>-</td>\n      <td>-</td>\n      <td>469007</td>\n      <td>2928</td>\n      <td>525007</td>\n    </tr>\n    <tr>\n      <th>14974</th>\n      <td>14975</td>\n      <td>2021-05-16</td>\n      <td>8:00 AM</td>\n      <td>Tripura</td>\n      <td>-</td>\n      <td>-</td>\n      <td>35522</td>\n      <td>431</td>\n      <td>40816</td>\n    </tr>\n    <tr>\n      <th>14975</th>\n      <td>14976</td>\n      <td>2021-05-16</td>\n      <td>8:00 AM</td>\n      <td>Uttarakhand</td>\n      <td>-</td>\n      <td>-</td>\n      <td>198616</td>\n      <td>4623</td>\n      <td>283239</td>\n    </tr>\n    <tr>\n      <th>14976</th>\n      <td>14977</td>\n      <td>2021-05-16</td>\n      <td>8:00 AM</td>\n      <td>Uttar Pradesh</td>\n      <td>-</td>\n      <td>-</td>\n      <td>1414259</td>\n      <td>17238</td>\n      <td>1609140</td>\n    </tr>\n    <tr>\n      <th>14977</th>\n      <td>14978</td>\n      <td>2021-05-16</td>\n      <td>8:00 AM</td>\n      <td>West Bengal</td>\n      <td>-</td>\n      <td>-</td>\n      <td>969228</td>\n      <td>13137</td>\n      <td>1114313</td>\n    </tr>\n  </tbody>\n</table>\n</div>"
     },
     "metadata": {},
     "execution_count": 52
    }
   ],
   "source": [
    "# filter to rows with 2021 dates\n",
    "dataset2_2021 = dataset2[pd.to_datetime(dataset2[\"Date\"]).dt.year == 2021]\n",
    "dataset2_2021.tail()"
   ]
  },
  {
   "cell_type": "code",
   "execution_count": 59,
   "metadata": {},
   "outputs": [],
   "source": [
    "# monthly filter\n",
    "dataset2_2021_1 = dataset2_2021[pd.to_datetime(dataset2_2021[\"Date\"]).dt.month == 1]\n",
    "dataset2_2021_2 = dataset2_2021[pd.to_datetime(dataset2_2021[\"Date\"]).dt.month == 2]\n",
    "dataset2_2021_3 = dataset2_2021[pd.to_datetime(dataset2_2021[\"Date\"]).dt.month == 3]\n",
    "dataset2_2021_4 = dataset2_2021[pd.to_datetime(dataset2_2021[\"Date\"]).dt.month == 4]\n",
    "dataset2_2021_5 = dataset2_2021[pd.to_datetime(dataset2_2021[\"Date\"]).dt.month == 5]\n",
    "dataset2_2021_6 = dataset2_2021[pd.to_datetime(dataset2_2021[\"Date\"]).dt.month == 6]\n",
    "dataset2_2021_7 = dataset2_2021[pd.to_datetime(dataset2_2021[\"Date\"]).dt.month == 7]\n",
    "dataset2_2021_8 = dataset2_2021[pd.to_datetime(dataset2_2021[\"Date\"]).dt.month == 8]\n",
    "dataset2_2021_9 = dataset2_2021[pd.to_datetime(dataset2_2021[\"Date\"]).dt.month == 9]\n",
    "dataset2_2021_10 = dataset2_2021[pd.to_datetime(dataset2_2021[\"Date\"]).dt.month == 10]\n",
    "dataset2_2021_11 = dataset2_2021[pd.to_datetime(dataset2_2021[\"Date\"]).dt.month == 11]\n",
    "dataset2_2021_12 = dataset2_2021[pd.to_datetime(dataset2_2021[\"Date\"]).dt.month == 12]"
   ]
  },
  {
   "cell_type": "code",
   "execution_count": 63,
   "metadata": {},
   "outputs": [
    {
     "output_type": "execute_result",
     "data": {
      "text/plain": [
       "               Sno        Cured      Deaths    Confirmed\n",
       "count   949.000000   949.000000  949.000000   949.000000\n",
       "mean   1004.000000    79.497366   13.983140   445.144362\n",
       "std     274.097002   185.234636   41.878236   978.586487\n",
       "min     530.000000     0.000000    0.000000     0.000000\n",
       "25%     767.000000     1.000000    0.000000    11.000000\n",
       "50%    1004.000000    14.000000    1.000000    61.000000\n",
       "75%    1241.000000    55.000000    9.000000   411.000000\n",
       "max    1478.000000  1593.000000  432.000000  9915.000000"
      ],
      "text/html": "<div>\n<style scoped>\n    .dataframe tbody tr th:only-of-type {\n        vertical-align: middle;\n    }\n\n    .dataframe tbody tr th {\n        vertical-align: top;\n    }\n\n    .dataframe thead th {\n        text-align: right;\n    }\n</style>\n<table border=\"1\" class=\"dataframe\">\n  <thead>\n    <tr style=\"text-align: right;\">\n      <th></th>\n      <th>Sno</th>\n      <th>Cured</th>\n      <th>Deaths</th>\n      <th>Confirmed</th>\n    </tr>\n  </thead>\n  <tbody>\n    <tr>\n      <th>count</th>\n      <td>949.000000</td>\n      <td>949.000000</td>\n      <td>949.000000</td>\n      <td>949.000000</td>\n    </tr>\n    <tr>\n      <th>mean</th>\n      <td>1004.000000</td>\n      <td>79.497366</td>\n      <td>13.983140</td>\n      <td>445.144362</td>\n    </tr>\n    <tr>\n      <th>std</th>\n      <td>274.097002</td>\n      <td>185.234636</td>\n      <td>41.878236</td>\n      <td>978.586487</td>\n    </tr>\n    <tr>\n      <th>min</th>\n      <td>530.000000</td>\n      <td>0.000000</td>\n      <td>0.000000</td>\n      <td>0.000000</td>\n    </tr>\n    <tr>\n      <th>25%</th>\n      <td>767.000000</td>\n      <td>1.000000</td>\n      <td>0.000000</td>\n      <td>11.000000</td>\n    </tr>\n    <tr>\n      <th>50%</th>\n      <td>1004.000000</td>\n      <td>14.000000</td>\n      <td>1.000000</td>\n      <td>61.000000</td>\n    </tr>\n    <tr>\n      <th>75%</th>\n      <td>1241.000000</td>\n      <td>55.000000</td>\n      <td>9.000000</td>\n      <td>411.000000</td>\n    </tr>\n    <tr>\n      <th>max</th>\n      <td>1478.000000</td>\n      <td>1593.000000</td>\n      <td>432.000000</td>\n      <td>9915.000000</td>\n    </tr>\n  </tbody>\n</table>\n</div>"
     },
     "metadata": {},
     "execution_count": 63
    }
   ],
   "source": [
    "# April 2020 stats\n",
    "dataset2_2020_4.describe()"
   ]
  },
  {
   "cell_type": "code",
   "execution_count": 64,
   "metadata": {},
   "outputs": [
    {
     "output_type": "execute_result",
     "data": {
      "text/plain": [
       "               Sno         Cured        Deaths     Confirmed\n",
       "count   1080.00000  1.080000e+03   1080.000000  1.080000e+03\n",
       "mean   13862.50000  3.564724e+05   4944.720370  4.080191e+05\n",
       "std      311.91345  5.539490e+05  10142.932525  6.593999e+05\n",
       "min    13323.00000  6.800000e+02      1.000000  7.230000e+02\n",
       "25%    13592.75000  2.204775e+04    322.750000  2.488450e+04\n",
       "50%    13862.50000  1.890335e+05   1749.000000  2.185015e+05\n",
       "75%    14132.25000  3.776910e+05   5310.000000  4.966818e+05\n",
       "max    14402.00000  3.799266e+06  67985.000000  4.539553e+06"
      ],
      "text/html": "<div>\n<style scoped>\n    .dataframe tbody tr th:only-of-type {\n        vertical-align: middle;\n    }\n\n    .dataframe tbody tr th {\n        vertical-align: top;\n    }\n\n    .dataframe thead th {\n        text-align: right;\n    }\n</style>\n<table border=\"1\" class=\"dataframe\">\n  <thead>\n    <tr style=\"text-align: right;\">\n      <th></th>\n      <th>Sno</th>\n      <th>Cured</th>\n      <th>Deaths</th>\n      <th>Confirmed</th>\n    </tr>\n  </thead>\n  <tbody>\n    <tr>\n      <th>count</th>\n      <td>1080.00000</td>\n      <td>1.080000e+03</td>\n      <td>1080.000000</td>\n      <td>1.080000e+03</td>\n    </tr>\n    <tr>\n      <th>mean</th>\n      <td>13862.50000</td>\n      <td>3.564724e+05</td>\n      <td>4944.720370</td>\n      <td>4.080191e+05</td>\n    </tr>\n    <tr>\n      <th>std</th>\n      <td>311.91345</td>\n      <td>5.539490e+05</td>\n      <td>10142.932525</td>\n      <td>6.593999e+05</td>\n    </tr>\n    <tr>\n      <th>min</th>\n      <td>13323.00000</td>\n      <td>6.800000e+02</td>\n      <td>1.000000</td>\n      <td>7.230000e+02</td>\n    </tr>\n    <tr>\n      <th>25%</th>\n      <td>13592.75000</td>\n      <td>2.204775e+04</td>\n      <td>322.750000</td>\n      <td>2.488450e+04</td>\n    </tr>\n    <tr>\n      <th>50%</th>\n      <td>13862.50000</td>\n      <td>1.890335e+05</td>\n      <td>1749.000000</td>\n      <td>2.185015e+05</td>\n    </tr>\n    <tr>\n      <th>75%</th>\n      <td>14132.25000</td>\n      <td>3.776910e+05</td>\n      <td>5310.000000</td>\n      <td>4.966818e+05</td>\n    </tr>\n    <tr>\n      <th>max</th>\n      <td>14402.00000</td>\n      <td>3.799266e+06</td>\n      <td>67985.000000</td>\n      <td>4.539553e+06</td>\n    </tr>\n  </tbody>\n</table>\n</div>"
     },
     "metadata": {},
     "execution_count": 64
    }
   ],
   "source": [
    "# April 2021 stats\n",
    "dataset2_2021_4.describe()"
   ]
  },
  {
   "cell_type": "code",
   "execution_count": 68,
   "metadata": {},
   "outputs": [],
   "source": [
    "# Average Covid cases for all States/UT for the month April, in 2020 & 2021\n",
    "avg_04_2020_2021 = (dataset2_2021_4.describe().mean()['Confirmed'] + dataset2_2021_4.describe().mean()['Confirmed'])/ 2"
   ]
  },
  {
   "cell_type": "code",
   "execution_count": 70,
   "metadata": {},
   "outputs": [
    {
     "output_type": "error",
     "ename": "NameError",
     "evalue": "name 'dataset1_2021_1' is not defined",
     "traceback": [
      "\u001b[1;31m---------------------------------------------------------------------------\u001b[0m",
      "\u001b[1;31mNameError\u001b[0m                                 Traceback (most recent call last)",
      "\u001b[1;32m<ipython-input-70-358a2b8fc618>\u001b[0m in \u001b[0;36m<module>\u001b[1;34m\u001b[0m\n\u001b[0;32m      1\u001b[0m \u001b[1;31m# month-wise total number of male vaccinated in every States/UT,\u001b[0m\u001b[1;33m\u001b[0m\u001b[1;33m\u001b[0m\u001b[1;33m\u001b[0m\u001b[0m\n\u001b[1;32m----> 2\u001b[1;33m \u001b[0mt_male_01\u001b[0m \u001b[1;33m=\u001b[0m \u001b[0mdataset1_2021_1\u001b[0m\u001b[1;33m[\u001b[0m\u001b[1;34m'Male(Individuals Vaccinated)'\u001b[0m\u001b[1;33m]\u001b[0m\u001b[1;33m.\u001b[0m\u001b[0mdescribe\u001b[0m\u001b[1;33m(\u001b[0m\u001b[1;33m)\u001b[0m\u001b[1;33m.\u001b[0m\u001b[0mtotal\u001b[0m\u001b[1;33m(\u001b[0m\u001b[1;33m)\u001b[0m\u001b[1;33m\u001b[0m\u001b[1;33m\u001b[0m\u001b[0m\n\u001b[0m\u001b[0;32m      3\u001b[0m \u001b[0mprint\u001b[0m\u001b[1;33m(\u001b[0m\u001b[0mt_male_01\u001b[0m\u001b[1;33m)\u001b[0m\u001b[1;33m\u001b[0m\u001b[1;33m\u001b[0m\u001b[0m\n\u001b[0;32m      4\u001b[0m \u001b[1;33m\u001b[0m\u001b[0m\n",
      "\u001b[1;31mNameError\u001b[0m: name 'dataset1_2021_1' is not defined"
     ]
    }
   ],
   "source": [
    "# month-wise total number of male vaccinated in every States/UT, \n",
    "t_male_01 = dataset1_2021_1['Male(Individuals Vaccinated)'].describe().total()\n",
    "print(t_male_01)"
   ]
  },
  {
   "cell_type": "code",
   "execution_count": null,
   "metadata": {},
   "outputs": [],
   "source": [
    "# along with the covid cases, month-wise for the respective States/UT in the year of 2021\n"
   ]
  },
  {
   "cell_type": "code",
   "execution_count": 78,
   "metadata": {},
   "outputs": [
    {
     "output_type": "execute_result",
     "data": {
      "text/plain": [
       "      Date of Highest Cases  Average Covid Cases April\n",
       "14962            2021-05-16              793605.344241"
      ],
      "text/html": "<div>\n<style scoped>\n    .dataframe tbody tr th:only-of-type {\n        vertical-align: middle;\n    }\n\n    .dataframe tbody tr th {\n        vertical-align: top;\n    }\n\n    .dataframe thead th {\n        text-align: right;\n    }\n</style>\n<table border=\"1\" class=\"dataframe\">\n  <thead>\n    <tr style=\"text-align: right;\">\n      <th></th>\n      <th>Date of Highest Cases</th>\n      <th>Average Covid Cases April</th>\n    </tr>\n  </thead>\n  <tbody>\n    <tr>\n      <th>14962</th>\n      <td>2021-05-16</td>\n      <td>793605.344241</td>\n    </tr>\n  </tbody>\n</table>\n</div>"
     },
     "metadata": {},
     "execution_count": 78
    }
   ],
   "source": [
    "# Organise results data\n",
    "results = {\n",
    "    'Date of Highest Cases': worst_date,\n",
    "    'Average Covid Cases April': avg_04_2020_2021\n",
    "}\n",
    "\n",
    "# Create results dataframe\n",
    "results_data = pd.DataFrame(results, columns= ['Date of Highest Cases', 'Average Covid Cases April'])\n",
    "results_data.dropna()"
   ]
  },
  {
   "cell_type": "code",
   "execution_count": 79,
   "metadata": {},
   "outputs": [],
   "source": [
    "# write results to output csv\n",
    "results_data.to_csv('../data/results_output.csv')"
   ]
  },
  {
   "cell_type": "code",
   "execution_count": null,
   "metadata": {},
   "outputs": [],
   "source": []
  }
 ]
}